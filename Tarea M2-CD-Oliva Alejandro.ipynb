{
 "cells": [
  {
   "cell_type": "markdown",
   "metadata": {},
   "source": [
    "# Práctica\n",
    "Desarrolle un programa en Python donde dado un texto proporcionado por el usuario se encargue de imprimir el número de veces que cada palabra se repite. Para ello investigue sobre la utilización del comando “input”.\n",
    "\n",
    "Aplique su programa en el siguiente caso: “El amor es una locura que ni el cura lo cura porque si el cura lo cura sería una locura del cura”    "
   ]
  },
  {
   "cell_type": "code",
   "execution_count": 1,
   "metadata": {},
   "outputs": [
    {
     "data": {
      "text/plain": [
       "'El amor es una locura que ni el cura lo cura porque si el cura lo cura sería una locura del cura'"
      ]
     },
     "execution_count": 1,
     "metadata": {},
     "output_type": "execute_result"
    }
   ],
   "source": [
    "texto = input('Escribir un texto: ')\n",
    "# El amor es una locura que ni el cura lo cura porque si el cura lo cura sería una locura del cura\n",
    "texto"
   ]
  },
  {
   "cell_type": "code",
   "execution_count": 2,
   "metadata": {},
   "outputs": [
    {
     "data": {
      "text/plain": [
       "['El',\n",
       " 'amor',\n",
       " 'es',\n",
       " 'una',\n",
       " 'locura',\n",
       " 'que',\n",
       " 'ni',\n",
       " 'el',\n",
       " 'cura',\n",
       " 'lo',\n",
       " 'cura',\n",
       " 'porque',\n",
       " 'si',\n",
       " 'el',\n",
       " 'cura',\n",
       " 'lo',\n",
       " 'cura',\n",
       " 'sería',\n",
       " 'una',\n",
       " 'locura',\n",
       " 'del',\n",
       " 'cura']"
      ]
     },
     "execution_count": 2,
     "metadata": {},
     "output_type": "execute_result"
    }
   ],
   "source": [
    "# Creando una lista llamada palabra vacía, lista para usarse. \n",
    "palabra = []\n",
    "# Usando una bandera para ir recorriendo una a una las palabras del texto\n",
    "for palabras_flag in texto:\n",
    "    # Separando y agregando a la lista las palabaras.\n",
    "    palabra= texto.split()\n",
    "    # Mostrando la lista de palabras. \n",
    "palabra"
   ]
  },
  {
   "cell_type": "code",
   "execution_count": 3,
   "metadata": {},
   "outputs": [
    {
     "data": {
      "text/plain": [
       "{}"
      ]
     },
     "execution_count": 3,
     "metadata": {},
     "output_type": "execute_result"
    }
   ],
   "source": [
    "# Creando variable conteo string() 'numero de veces'\n",
    "conteo = {}\n",
    "conteo"
   ]
  },
  {
   "cell_type": "code",
   "execution_count": 4,
   "metadata": {},
   "outputs": [
    {
     "data": {
      "text/plain": [
       "{'El': 1,\n",
       " 'amor': 1,\n",
       " 'es': 1,\n",
       " 'una': 2,\n",
       " 'locura': 2,\n",
       " 'que': 1,\n",
       " 'ni': 1,\n",
       " 'el': 2,\n",
       " 'cura': 5,\n",
       " 'lo': 2,\n",
       " 'porque': 1,\n",
       " 'si': 1,\n",
       " 'sería': 1,\n",
       " 'del': 1}"
      ]
     },
     "execution_count": 4,
     "metadata": {},
     "output_type": "execute_result"
    }
   ],
   "source": [
    "# Recorriendo cada casilla de la lista palabra.\n",
    "for palabras_flag in palabra:\n",
    "    # cargando un valor a cada palabra creada en el string()\n",
    "    if palabras_flag not in conteo:\n",
    "        # Si no existe la creamos y le damos el valor de 1.\n",
    "        conteo[palabras_flag] = 0 + 1\n",
    "    else:\n",
    "        # Si ya existe le incrementamos el valor por 1.\n",
    "        conteo[palabras_flag] = conteo[palabras_flag] + 1\n",
    "# Mostramos el string() diccionario con cada palabra y el número de veces usado. \n",
    "conteo"
   ]
  },
  {
   "cell_type": "code",
   "execution_count": 5,
   "metadata": {},
   "outputs": [
    {
     "name": "stdout",
     "output_type": "stream",
     "text": [
      "La palabra ' El ' se repite  1  instancia(s)\n",
      "La palabra ' amor ' se repite  1  instancia(s)\n",
      "La palabra ' es ' se repite  1  instancia(s)\n",
      "La palabra ' una ' se repite  2  instancia(s)\n",
      "La palabra ' locura ' se repite  2  instancia(s)\n",
      "La palabra ' que ' se repite  1  instancia(s)\n",
      "La palabra ' ni ' se repite  1  instancia(s)\n",
      "La palabra ' el ' se repite  2  instancia(s)\n",
      "La palabra ' cura ' se repite  5  instancia(s)\n",
      "La palabra ' lo ' se repite  2  instancia(s)\n",
      "La palabra ' porque ' se repite  1  instancia(s)\n",
      "La palabra ' si ' se repite  1  instancia(s)\n",
      "La palabra ' sería ' se repite  1  instancia(s)\n",
      "La palabra ' del ' se repite  1  instancia(s)\n"
     ]
    }
   ],
   "source": [
    "for palabra_flag in conteo:\n",
    "    print(\"La palabra '\", palabra_flag, \"' se repite \", conteo[palabra_flag],\" instancia(s)\")"
   ]
  }
 ],
 "metadata": {
  "kernelspec": {
   "display_name": "base",
   "language": "python",
   "name": "python3"
  },
  "language_info": {
   "codemirror_mode": {
    "name": "ipython",
    "version": 3
   },
   "file_extension": ".py",
   "mimetype": "text/x-python",
   "name": "python",
   "nbconvert_exporter": "python",
   "pygments_lexer": "ipython3",
   "version": "3.9.13"
  }
 },
 "nbformat": 4,
 "nbformat_minor": 2
}
